{
 "cells": [
  {
   "cell_type": "code",
   "execution_count": 2,
   "metadata": {},
   "outputs": [],
   "source": [
    "import numpy as np\n",
    "import pandas as pd\n",
    "from skbio import DistanceMatrix, TreeNode\n",
    "\n",
    "import sys\n",
    "sys.path.append('../')\n",
    "import phyloviz\n",
    "from phyloviz.model import Tree\n",
    "\n",
    "\n",
    "import matplotlib.pyplot as plt\n",
    "%matplotlib inline \n",
    "from scipy.cluster.hierarchy import ward, complete\n",
    "import pandas.util.testing as pdt"
   ]
  },
  {
   "cell_type": "code",
   "execution_count": 3,
   "metadata": {},
   "outputs": [],
   "source": [
    "np.random.seed(0)\n",
    "x = np.random.rand(10)\n",
    "dm = DistanceMatrix.from_iterable(x, lambda x, y: np.abs(x-y))\n",
    "lm = complete(dm.condensed_form())\n",
    "ids = np.arange(len(x)).astype(np.str)\n",
    "tree = TreeNode.from_linkage_matrix(lm, ids)\n",
    "\n",
    "# initialize tree with branch length and named internal nodes\n",
    "for i, n in enumerate(tree.postorder(include_self=True)):\n",
    "    n.length = 1\n",
    "    if not n.is_tip():\n",
    "        n.name = \"y%d\" % i"
   ]
  },
  {
   "cell_type": "code",
   "execution_count": 3,
   "metadata": {},
   "outputs": [],
   "source": [
    "tree = TreeNode.read(['(((a:1,e:2)f:1,b:2)g:1,(c:1,d:3)h:2)i:1;'])\n"
   ]
  },
  {
   "cell_type": "code",
   "execution_count": 5,
   "metadata": {},
   "outputs": [
    {
     "data": {
      "text/plain": [
       "74.609165340334656"
      ]
     },
     "execution_count": 5,
     "metadata": {},
     "output_type": "execute_result"
    }
   ],
   "source": [
    "t = Tree.from_tree(tree)\n",
    "t.rescale(500,500)"
   ]
  },
  {
   "cell_type": "code",
   "execution_count": 6,
   "metadata": {},
   "outputs": [
    {
     "data": {
      "text/plain": [
       "[(2.2301939502377812, 2.00173803121137),\n",
       " (3.9131359198535742, 2.0823426429476495),\n",
       " (3.5693632652849416, -0.70813820377328751),\n",
       " (0.34885097950630928, -3.2790527077291802),\n",
       " (-2.0626765144773422, -4.2499910737195705)]"
      ]
     },
     "execution_count": 6,
     "metadata": {},
     "output_type": "execute_result"
    }
   ],
   "source": [
    "t.update_coordinates(1,0,0,2,1)"
   ]
  },
  {
   "cell_type": "code",
   "execution_count": 7,
   "metadata": {},
   "outputs": [],
   "source": [
    "node, edge = t.coords(500,500)\n"
   ]
  },
  {
   "cell_type": "code",
   "execution_count": 8,
   "metadata": {},
   "outputs": [],
   "source": [
    "type(node)\n",
    "strnode = node.to_string()\n",
    "node_dict=node.to_dict('split')\n"
   ]
  },
  {
   "cell_type": "code",
   "execution_count": 9,
   "metadata": {},
   "outputs": [
    {
     "name": "stdout",
     "output_type": "stream",
     "text": [
      "  Node id        x        y\n",
      "a       a  83.3718  292.508\n",
      "b       b  254.481    487.5\n",
      "c       c  478.085  225.366\n",
      "d       d  483.791     12.5\n",
      "e       e   16.209  420.732\n",
      "f       f  141.354  339.461\n",
      "g       g  215.861  343.366\n",
      "h       h  403.578  221.461\n",
      "i       i  278.433  302.731\n"
     ]
    }
   ],
   "source": [
    "print (node)"
   ]
  },
  {
   "cell_type": "code",
   "execution_count": 10,
   "metadata": {},
   "outputs": [
    {
     "name": "stdout",
     "output_type": "stream",
     "text": [
      "{'columns': ['Node id', 'Parent id', 'px', 'py', 'x', 'y'], 'data': [['a', 'f', 141.35398602846797, 339.46141862722482, 83.371774496551481, 292.50834951934343], ['b', 'g', 215.86090210071345, 343.36616063979909, 254.48144795927647, 487.5], ['c', 'h', 403.57843531045097, 221.46096919708964, 478.08535138269644, 225.36571120966394], ['d', 'h', 403.57843531045097, 221.46096919708964, 483.79103611135702, 12.500000000000028], ['e', 'f', 141.35398602846797, 339.46141862722482, 16.20896388864297, 420.73154625569776], ['f', 'g', 215.86090210071345, 343.36616063979909, 141.35398602846797, 339.46141862722482], ['g', 'i', 278.43341317062595, 302.73109682556259, 215.86090210071345, 343.36616063979909], ['h', 'i', 278.43341317062595, 302.73109682556259, 403.57843531045097, 221.46096919708964]], 'index': ['a', 'b', 'c', 'd', 'e', 'f', 'g', 'h']}\n"
     ]
    }
   ],
   "source": [
    "print(edge.to_dict('split'))"
   ]
  },
  {
   "cell_type": "code",
   "execution_count": 11,
   "metadata": {},
   "outputs": [
    {
     "name": "stdout",
     "output_type": "stream",
     "text": [
      "{'columns': ['Node id', 'x', 'y'], 'data': [['a', 83.371774496551481, 292.50834951934343], ['b', 254.48144795927647, 487.5], ['c', 478.08535138269644, 225.36571120966394], ['d', 483.79103611135702, 12.500000000000028], ['e', 16.20896388864297, 420.73154625569776], ['f', 141.35398602846797, 339.46141862722482], ['g', 215.86090210071345, 343.36616063979909], ['h', 403.57843531045097, 221.46096919708964], ['i', 278.43341317062595, 302.73109682556259]], 'index': ['a', 'b', 'c', 'd', 'e', 'f', 'g', 'h', 'i']}\n"
     ]
    }
   ],
   "source": [
    "print(node_dict)"
   ]
  },
  {
   "cell_type": "code",
   "execution_count": 14,
   "metadata": {},
   "outputs": [
    {
     "data": {
      "text/html": [
       "<div>\n",
       "<table border=\"1\" class=\"dataframe\">\n",
       "  <thead>\n",
       "    <tr style=\"text-align: right;\">\n",
       "      <th></th>\n",
       "      <th>x</th>\n",
       "      <th>y</th>\n",
       "      <th>child0</th>\n",
       "      <th>child1</th>\n",
       "      <th>is_tip</th>\n",
       "    </tr>\n",
       "  </thead>\n",
       "  <tbody>\n",
       "    <tr>\n",
       "      <th>0</th>\n",
       "      <td>404.097</td>\n",
       "      <td>396.979</td>\n",
       "      <td>NaN</td>\n",
       "      <td>NaN</td>\n",
       "      <td>True</td>\n",
       "    </tr>\n",
       "    <tr>\n",
       "      <th>1</th>\n",
       "      <td>464.724</td>\n",
       "      <td>174.338</td>\n",
       "      <td>NaN</td>\n",
       "      <td>NaN</td>\n",
       "      <td>True</td>\n",
       "    </tr>\n",
       "    <tr>\n",
       "      <th>2</th>\n",
       "      <td>487.5</td>\n",
       "      <td>43.2804</td>\n",
       "      <td>NaN</td>\n",
       "      <td>NaN</td>\n",
       "      <td>True</td>\n",
       "    </tr>\n",
       "    <tr>\n",
       "      <th>3</th>\n",
       "      <td>446.172</td>\n",
       "      <td>359.095</td>\n",
       "      <td>NaN</td>\n",
       "      <td>NaN</td>\n",
       "      <td>True</td>\n",
       "    </tr>\n",
       "    <tr>\n",
       "      <th>4</th>\n",
       "      <td>32.4704</td>\n",
       "      <td>456.72</td>\n",
       "      <td>NaN</td>\n",
       "      <td>NaN</td>\n",
       "      <td>True</td>\n",
       "    </tr>\n",
       "    <tr>\n",
       "      <th>5</th>\n",
       "      <td>438.468</td>\n",
       "      <td>14.9717</td>\n",
       "      <td>NaN</td>\n",
       "      <td>NaN</td>\n",
       "      <td>True</td>\n",
       "    </tr>\n",
       "    <tr>\n",
       "      <th>6</th>\n",
       "      <td>81.5024</td>\n",
       "      <td>485.028</td>\n",
       "      <td>NaN</td>\n",
       "      <td>NaN</td>\n",
       "      <td>True</td>\n",
       "    </tr>\n",
       "    <tr>\n",
       "      <th>7</th>\n",
       "      <td>54.5748</td>\n",
       "      <td>34.9421</td>\n",
       "      <td>NaN</td>\n",
       "      <td>NaN</td>\n",
       "      <td>True</td>\n",
       "    </tr>\n",
       "    <tr>\n",
       "      <th>8</th>\n",
       "      <td>12.5</td>\n",
       "      <td>72.8265</td>\n",
       "      <td>NaN</td>\n",
       "      <td>NaN</td>\n",
       "      <td>True</td>\n",
       "    </tr>\n",
       "    <tr>\n",
       "      <th>9</th>\n",
       "      <td>55.2464</td>\n",
       "      <td>325.662</td>\n",
       "      <td>NaN</td>\n",
       "      <td>NaN</td>\n",
       "      <td>True</td>\n",
       "    </tr>\n",
       "    <tr>\n",
       "      <th>y10</th>\n",
       "      <td>366.837</td>\n",
       "      <td>313.291</td>\n",
       "      <td>0</td>\n",
       "      <td>3</td>\n",
       "      <td>False</td>\n",
       "    </tr>\n",
       "    <tr>\n",
       "      <th>y14</th>\n",
       "      <td>419.421</td>\n",
       "      <td>104.579</td>\n",
       "      <td>2</td>\n",
       "      <td>5</td>\n",
       "      <td>False</td>\n",
       "    </tr>\n",
       "    <tr>\n",
       "      <th>y15</th>\n",
       "      <td>373.617</td>\n",
       "      <td>183.914</td>\n",
       "      <td>1</td>\n",
       "      <td>y14</td>\n",
       "      <td>False</td>\n",
       "    </tr>\n",
       "    <tr>\n",
       "      <th>y16</th>\n",
       "      <td>305.539</td>\n",
       "      <td>245.212</td>\n",
       "      <td>y10</td>\n",
       "      <td>y15</td>\n",
       "      <td>False</td>\n",
       "    </tr>\n",
       "    <tr>\n",
       "      <th>y17</th>\n",
       "      <td>214.432</td>\n",
       "      <td>254.788</td>\n",
       "      <td>y7</td>\n",
       "      <td>y16</td>\n",
       "      <td>False</td>\n",
       "    </tr>\n",
       "    <tr>\n",
       "      <th>y18</th>\n",
       "      <td>153.134</td>\n",
       "      <td>186.709</td>\n",
       "      <td>y2</td>\n",
       "      <td>y17</td>\n",
       "      <td>False</td>\n",
       "    </tr>\n",
       "    <tr>\n",
       "      <th>y2</th>\n",
       "      <td>91.8354</td>\n",
       "      <td>118.631</td>\n",
       "      <td>7</td>\n",
       "      <td>8</td>\n",
       "      <td>False</td>\n",
       "    </tr>\n",
       "    <tr>\n",
       "      <th>y6</th>\n",
       "      <td>100.549</td>\n",
       "      <td>395.421</td>\n",
       "      <td>4</td>\n",
       "      <td>6</td>\n",
       "      <td>False</td>\n",
       "    </tr>\n",
       "    <tr>\n",
       "      <th>y7</th>\n",
       "      <td>146.353</td>\n",
       "      <td>316.086</td>\n",
       "      <td>9</td>\n",
       "      <td>y6</td>\n",
       "      <td>False</td>\n",
       "    </tr>\n",
       "  </tbody>\n",
       "</table>\n",
       "</div>"
      ],
      "text/plain": [
       "           x        y child0 child1 is_tip\n",
       "0    404.097  396.979    NaN    NaN   True\n",
       "1    464.724  174.338    NaN    NaN   True\n",
       "2      487.5  43.2804    NaN    NaN   True\n",
       "3    446.172  359.095    NaN    NaN   True\n",
       "4    32.4704   456.72    NaN    NaN   True\n",
       "5    438.468  14.9717    NaN    NaN   True\n",
       "6    81.5024  485.028    NaN    NaN   True\n",
       "7    54.5748  34.9421    NaN    NaN   True\n",
       "8       12.5  72.8265    NaN    NaN   True\n",
       "9    55.2464  325.662    NaN    NaN   True\n",
       "y10  366.837  313.291      0      3  False\n",
       "y14  419.421  104.579      2      5  False\n",
       "y15  373.617  183.914      1    y14  False\n",
       "y16  305.539  245.212    y10    y15  False\n",
       "y17  214.432  254.788     y7    y16  False\n",
       "y18  153.134  186.709     y2    y17  False\n",
       "y2   91.8354  118.631      7      8  False\n",
       "y6   100.549  395.421      4      6  False\n",
       "y7   146.353  316.086      9     y6  False"
      ]
     },
     "execution_count": 14,
     "metadata": {},
     "output_type": "execute_result"
    }
   ],
   "source": [
    "df = pd.DataFrame({'0': [404.097, 396.979, np.nan, np.nan, True],\n",
    "                            '1': [464.724, 174.338, np.nan, np.nan, True],\n",
    "                            '2': [487.5, 43.2804, np.nan, np.nan, True],\n",
    "                            '3': [446.172, 359.095, np.nan, np.nan, True],\n",
    "                            '4': [32.4704, 456.72, np.nan, np.nan, True],\n",
    "                            '5': [438.468, 14.9717, np.nan, np.nan, True],\n",
    "                            '6': [81.5024, 485.028, np.nan, np.nan, True],\n",
    "                            '7': [54.5748, 34.9421, np.nan, np.nan, True],\n",
    "                            '8': [12.5, 72.8265, np.nan, np.nan, True],\n",
    "                            '9': [55.2464, 325.662, np.nan, np.nan, True],\n",
    "                            'y10': [366.837, 313.291, '0', '3', False],\n",
    "                            'y14': [419.421, 104.579, '2', '5', False],\n",
    "                            'y15': [373.617, 183.914, '1', 'y14', False],\n",
    "                            'y16': [305.539, 245.212, 'y10', 'y15', False],\n",
    "                            'y17': [214.432, 254.788, 'y7', 'y16', False],\n",
    "                            'y18': [153.134, 186.709, 'y2', 'y17', False],\n",
    "                            'y2': [91.8354, 118.631, '7', '8', False],\n",
    "                            'y6': [100.549, 395.421, '4', '6', False],\n",
    "                            'y7': [146.353, 316.086, '9', 'y6', False]},\n",
    "                           index=['x', 'y', 'child0', 'child1', 'is_tip']).T\n",
    "df"
   ]
  },
  {
   "cell_type": "code",
   "execution_count": 8,
   "metadata": {},
   "outputs": [],
   "source": [
    "def plot(node_metadata, edge_metadata):\n",
    "    \"\"\" Plot the tree with the given dataframe of coordinates of points\n",
    "\n",
    "    We are now plotting with matplotlib\n",
    "    Parameters\n",
    "    ----------\n",
    "    node_metadata : pd.DataFrame\n",
    "       Contains all of the species attributes.\n",
    "       Every row corresponds to a unique species\n",
    "       and every column corresponds to an attribute.\n",
    "       Metadata may also contain ancestors.\n",
    "    edge_metadata : pd.DataFrame\n",
    "       Contains all of the edge attributes.\n",
    "       Every row corresponds to a unique edge\n",
    "       and every column corresponds to an attribute.\n",
    "\n",
    "    \"\"\"\n",
    "    # Plot nodes\n",
    "    col_node_x = node_metadata['x']\n",
    "    col_node_y = node_metadata['y']\n",
    "    # TODO: annotation on points\n",
    "    plt.scatter(col_node_x, col_node_y)\n",
    "\n",
    "    # Plot edges\n",
    "    # Get the four columns of coordinates\n",
    "    col_edge_x = edge_metadata['x']\n",
    "    col_edge_y = edge_metadata['y']\n",
    "    col_edge_px = edge_metadata['px']\n",
    "    col_edge_py = edge_metadata['py']\n",
    "\n",
    "    row_count = len(edge_metadata.index)\n",
    "\n",
    "    # Loop through each row and plot the edge\n",
    "    for index in range(row_count):\n",
    "        plot_x = [col_edge_x[index], col_edge_px[index]]\n",
    "        plot_y = [col_edge_y[index], col_edge_py[index]]\n",
    "        plt.plot(plot_x, plot_y)\n"
   ]
  },
  {
   "cell_type": "code",
   "execution_count": 11,
   "metadata": {},
   "outputs": [
    {
     "data": {
      "image/png": "[encoded data removed]",
      "text/plain": [
       "<matplotlib.figure.Figure at 0x7f26667db668>"
      ]
     },
     "metadata": {},
     "output_type": "display_data"
    }
   ],
   "source": [
    "plot(node, edge)"
   ]
  },
  {
   "cell_type": "code",
   "execution_count": 12,
   "metadata": {},
   "outputs": [
    {
     "name": "stdout",
     "output_type": "stream",
     "text": [
      "None\n",
      "5\n",
      "3\n",
      "2\n",
      "2\n",
      "1\n",
      "1\n",
      "1\n"
     ]
    }
   ],
   "source": [
    "\n",
    "\n",
    "\n",
    "print(t._cache_ntips())\n",
    "print(t.leafcount)\n",
    "print(t.children[0].leafcount)\n",
    "print(t.children[1].leafcount)\n",
    "\n",
    "print(t.children[0].children[0].leafcount)\n",
    "print(t.children[0].children[1].leafcount)\n",
    "print(t.children[1].children[0].leafcount)\n",
    "print(t.children[1].children[1].leafcount)\n",
    "\n",
    "\n",
    "#self.assertEquals(t.children[1].leafcount, 2)\n",
    "#self.assertEquals(t.children[0].children[0].leafcount, 1)\n",
    "#self.assertEquals(t.children[0].children[1].leafcount, 1)\n",
    "#self.assertEquals(t.children[1].children[0].leafcount, 1)\n",
    "#self.assertEquals(t.children[1].children[1].leafcount, 1)\n"
   ]
  }
 ],
 "metadata": {
  "kernelspec": {
   "display_name": "Python 3",
   "language": "python",
   "name": "python3"
  }
 },
 "nbformat": 4,
 "nbformat_minor": 2
}
